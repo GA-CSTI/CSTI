{
 "cells": [
  {
   "cell_type": "raw",
   "id": "764ff4aa-762a-4814-b7ce-576d66299fc9",
   "metadata": {},
   "source": [
    "---\n",
    "title: \"Capstone Design Problem 1\"\n",
    "author: \"차상진\"\n",
    "date: \"2025-03-14\"\n",
    "---"
   ]
  },
  {
   "cell_type": "markdown",
   "id": "bc11437f-b82a-4e46-bb4a-4786527678e7",
   "metadata": {},
   "source": [
    "# Problem 1.\n",
    "\n",
    "주사위 두 개를 굴려서 나온 눈의 수를 사용해서 두 자리 숫자를 크게 만드는 사람이 이기는 게임이다. 주사위를 처음 굴려서 나온 눈의 수를 10의 자리와 1의 자리 중 어느 곳에 사용할 지 먼저 결정해야 한다. 그런 다음 두 번째로 주사위를 굴려서 나온 눈의 수는 자동으로 남은 자리의 숫자로 사용된다.\n",
    "\n",
    "예를 들어, 첫 번째 주사위가 3인데 10의 자리로 결정했고, 두 번째 6이 나왔다면 결과는 36이 된다.  \n",
    "\n",
    "어떤 전략을 사용해야 게임에 이길 가능성이 가장 클까?"
   ]
  },
  {
   "cell_type": "markdown",
   "id": "58ce225f-54c4-4803-abed-45de6e790a1d",
   "metadata": {},
   "source": [
    "## Data"
   ]
  },
  {
   "cell_type": "code",
   "execution_count": 3,
   "id": "fe5f5a2b-fcc7-42e3-ad31-d06d19033cda",
   "metadata": {},
   "outputs": [
    {
     "data": {
      "text/html": [
       "<div>\n",
       "<style scoped>\n",
       "    .dataframe tbody tr th:only-of-type {\n",
       "        vertical-align: middle;\n",
       "    }\n",
       "\n",
       "    .dataframe tbody tr th {\n",
       "        vertical-align: top;\n",
       "    }\n",
       "\n",
       "    .dataframe thead th {\n",
       "        text-align: right;\n",
       "    }\n",
       "</style>\n",
       "<table border=\"1\" class=\"dataframe\">\n",
       "  <thead>\n",
       "    <tr style=\"text-align: right;\">\n",
       "      <th></th>\n",
       "      <th>dice1</th>\n",
       "      <th>dice2</th>\n",
       "    </tr>\n",
       "  </thead>\n",
       "  <tbody>\n",
       "    <tr>\n",
       "      <th>0</th>\n",
       "      <td>1</td>\n",
       "      <td>4</td>\n",
       "    </tr>\n",
       "    <tr>\n",
       "      <th>1</th>\n",
       "      <td>1</td>\n",
       "      <td>2</td>\n",
       "    </tr>\n",
       "    <tr>\n",
       "      <th>2</th>\n",
       "      <td>5</td>\n",
       "      <td>3</td>\n",
       "    </tr>\n",
       "    <tr>\n",
       "      <th>3</th>\n",
       "      <td>6</td>\n",
       "      <td>2</td>\n",
       "    </tr>\n",
       "    <tr>\n",
       "      <th>4</th>\n",
       "      <td>3</td>\n",
       "      <td>3</td>\n",
       "    </tr>\n",
       "    <tr>\n",
       "      <th>...</th>\n",
       "      <td>...</td>\n",
       "      <td>...</td>\n",
       "    </tr>\n",
       "    <tr>\n",
       "      <th>999995</th>\n",
       "      <td>3</td>\n",
       "      <td>3</td>\n",
       "    </tr>\n",
       "    <tr>\n",
       "      <th>999996</th>\n",
       "      <td>2</td>\n",
       "      <td>6</td>\n",
       "    </tr>\n",
       "    <tr>\n",
       "      <th>999997</th>\n",
       "      <td>4</td>\n",
       "      <td>5</td>\n",
       "    </tr>\n",
       "    <tr>\n",
       "      <th>999998</th>\n",
       "      <td>3</td>\n",
       "      <td>2</td>\n",
       "    </tr>\n",
       "    <tr>\n",
       "      <th>999999</th>\n",
       "      <td>2</td>\n",
       "      <td>4</td>\n",
       "    </tr>\n",
       "  </tbody>\n",
       "</table>\n",
       "<p>1000000 rows × 2 columns</p>\n",
       "</div>"
      ],
      "text/plain": [
       "        dice1  dice2\n",
       "0           1      4\n",
       "1           1      2\n",
       "2           5      3\n",
       "3           6      2\n",
       "4           3      3\n",
       "...       ...    ...\n",
       "999995      3      3\n",
       "999996      2      6\n",
       "999997      4      5\n",
       "999998      3      2\n",
       "999999      2      4\n",
       "\n",
       "[1000000 rows x 2 columns]"
      ]
     },
     "execution_count": 3,
     "metadata": {},
     "output_type": "execute_result"
    }
   ],
   "source": [
    "import pandas as pd\n",
    "\n",
    "df = pd.read_csv('two_dice.csv')\n",
    "df"
   ]
  },
  {
   "cell_type": "markdown",
   "id": "3d2997f2-56eb-4c31-bd92-9d20ba3b0900",
   "metadata": {},
   "source": [
    "## Optimal Solution"
   ]
  },
  {
   "cell_type": "code",
   "execution_count": 70,
   "id": "0931522e-bd05-42bf-9f12-da0b25993583",
   "metadata": {},
   "outputs": [
    {
     "name": "stdout",
     "output_type": "stream",
     "text": [
      "총점수: 45241257\n",
      "평균: 45.241257\n"
     ]
    }
   ],
   "source": [
    "df['optimal_score'] = df.apply(lambda row: row['dice2'] * 10 + row['dice1']\n",
    "                        if row['dice1'] < 4 else row['dice1'] * 10 + row['dice2'], axis=1)\n",
    "\n",
    "print(f\"총점수: {sum(df['optimal_score'])}\")\n",
    "print(f\"평균: {sum(df['optimal_score']) / len(df)}\")"
   ]
  },
  {
   "cell_type": "markdown",
   "id": "54e01fe9-28b0-476b-9646-82e8cf3e2e9e",
   "metadata": {},
   "source": [
    "**최적의 방법은 첫 번째 주사위가 1,2,3이 나온다면 1의 자리에 사용하도록 선택하고 4,5,6이 나온다면 10의 자리에 사용하는 것이 최적의 방법이다.**\n",
    "\n",
    "위의 코드는 최적의 방법을 구현한 코드이다."
   ]
  },
  {
   "cell_type": "markdown",
   "id": "0ac4bdaa-1fba-4efc-8915-15f12ebbbba9",
   "metadata": {},
   "source": [
    "## Graph"
   ]
  },
  {
   "cell_type": "code",
   "execution_count": 91,
   "id": "c605e5b1-9bd5-4bf8-b993-de04f7a38116",
   "metadata": {},
   "outputs": [
    {
     "data": {
      "image/png": "[encoded data removed]",
      "text/plain": [
       "<Figure size 640x480 with 1 Axes>"
      ]
     },
     "metadata": {},
     "output_type": "display_data"
    }
   ],
   "source": [
    "import matplotlib.pyplot as plt\n",
    "\n",
    "score_counts = df['optimal_score'].value_counts()\n",
    "plt.bar(score_counts.index, score_counts.values)\n",
    "\n",
    "plt.title('Distribution of Optimal Scores')\n",
    "plt.xlabel('Optimal Score')\n",
    "plt.ylabel('Frequency')\n",
    "\n",
    "plt.show()"
   ]
  },
  {
   "cell_type": "markdown",
   "id": "a145ab3a-5f1c-4e32-be74-c1ea89f2cc3a",
   "metadata": {},
   "source": [
    "`-` 최적의 방법을 사용했을 때 어떤 수가 많이 나오는지를 시각화한 것이다. 40 이상의 비교적 큰 수들의 빈도가 많은 것을 보아 최적의 방법이 잘 동작하고 있다는 것을 알 수 있다."
   ]
  },
  {
   "cell_type": "markdown",
   "id": "7ac36754-a7e9-4fe0-bd1e-04ce337bc6f9",
   "metadata": {},
   "source": [
    "## Expectation"
   ]
  },
  {
   "cell_type": "code",
   "execution_count": 100,
   "id": "0afd86e6-8613-4fef-9182-a1b34afcc12a",
   "metadata": {},
   "outputs": [
    {
     "data": {
      "text/plain": [
       "45.241257"
      ]
     },
     "execution_count": 100,
     "metadata": {},
     "output_type": "execute_result"
    }
   ],
   "source": [
    "e_df = pd.DataFrame(df['optimal_score'].value_counts() / len(df)).reset_index()\n",
    "e_df['Expectation'] = e_df['optimal_score'] * e_df['count']\n",
    "e_df['Expectation'].sum()"
   ]
  },
  {
   "cell_type": "markdown",
   "id": "7e9254b4-1ded-47b1-8a93-67cc277432bf",
   "metadata": {},
   "source": [
    "**표본이 충분히 많다면 표본평균은 기댓값(모평균 $μ$)과 매우 유사해진다.**\n",
    "\n",
    "`-` 위의 예에서는 표본의 크기가 100만으로 매우 크기에 소수 6번 째 자리까지 같게 계산된다."
   ]
  },
  {
   "cell_type": "markdown",
   "id": "7efc485b-825f-45d5-9195-65adb18ff189",
   "metadata": {},
   "source": [
    "# Problem 2."
   ]
  },
  {
   "cell_type": "markdown",
   "id": "88651666-8261-4adc-9925-e92f851016d2",
   "metadata": {},
   "source": [
    "주사위 3개를 굴려서 나온 눈의 수를 사용해서 세자리 숫자를 가장 크게 만드는 사람이 이기는 게임이다.\n",
    "\n",
    "주사위를 처음 굴려서 나온 눈의 수를 세자리 숫자에서 어느 곳에 사용할 지 먼저 결정한다. 그런 다음 두 번째로 굴린 주사위에서 나온 눈의 수는 남은 두자리의 숫자 중 하나로 결정한다. 세 번째 나온 주사위 눈수는 자동으로 남은 숫자로 사용된다.\n",
    "\n",
    "예를 들어, 첫 번째 주사위가 3인데 10의 자리로 결정했고, 두 번째 6이 나와 100의 자리 숫자에 사용하고, 세 번째 주사위 눈수가 1이면 결과는 631이 된다. \n",
    "\n",
    "어떤 전략이 최선의 전략인가?"
   ]
  },
  {
   "cell_type": "markdown",
   "id": "817bd434-5563-476e-9128-d0f45784dfc8",
   "metadata": {},
   "source": [
    "## Data"
   ]
  },
  {
   "cell_type": "code",
   "execution_count": 8,
   "id": "4ac304ad-5531-4910-9312-20e73be9db8c",
   "metadata": {},
   "outputs": [
    {
     "data": {
      "text/html": [
       "<div>\n",
       "<style scoped>\n",
       "    .dataframe tbody tr th:only-of-type {\n",
       "        vertical-align: middle;\n",
       "    }\n",
       "\n",
       "    .dataframe tbody tr th {\n",
       "        vertical-align: top;\n",
       "    }\n",
       "\n",
       "    .dataframe thead th {\n",
       "        text-align: right;\n",
       "    }\n",
       "</style>\n",
       "<table border=\"1\" class=\"dataframe\">\n",
       "  <thead>\n",
       "    <tr style=\"text-align: right;\">\n",
       "      <th></th>\n",
       "      <th>dice1</th>\n",
       "      <th>dice2</th>\n",
       "      <th>dice3</th>\n",
       "    </tr>\n",
       "  </thead>\n",
       "  <tbody>\n",
       "    <tr>\n",
       "      <th>0</th>\n",
       "      <td>5</td>\n",
       "      <td>2</td>\n",
       "      <td>4</td>\n",
       "    </tr>\n",
       "    <tr>\n",
       "      <th>1</th>\n",
       "      <td>4</td>\n",
       "      <td>2</td>\n",
       "      <td>3</td>\n",
       "    </tr>\n",
       "    <tr>\n",
       "      <th>2</th>\n",
       "      <td>4</td>\n",
       "      <td>2</td>\n",
       "      <td>5</td>\n",
       "    </tr>\n",
       "    <tr>\n",
       "      <th>3</th>\n",
       "      <td>2</td>\n",
       "      <td>5</td>\n",
       "      <td>4</td>\n",
       "    </tr>\n",
       "    <tr>\n",
       "      <th>4</th>\n",
       "      <td>5</td>\n",
       "      <td>5</td>\n",
       "      <td>5</td>\n",
       "    </tr>\n",
       "    <tr>\n",
       "      <th>...</th>\n",
       "      <td>...</td>\n",
       "      <td>...</td>\n",
       "      <td>...</td>\n",
       "    </tr>\n",
       "    <tr>\n",
       "      <th>999995</th>\n",
       "      <td>5</td>\n",
       "      <td>4</td>\n",
       "      <td>4</td>\n",
       "    </tr>\n",
       "    <tr>\n",
       "      <th>999996</th>\n",
       "      <td>5</td>\n",
       "      <td>1</td>\n",
       "      <td>3</td>\n",
       "    </tr>\n",
       "    <tr>\n",
       "      <th>999997</th>\n",
       "      <td>4</td>\n",
       "      <td>3</td>\n",
       "      <td>2</td>\n",
       "    </tr>\n",
       "    <tr>\n",
       "      <th>999998</th>\n",
       "      <td>3</td>\n",
       "      <td>3</td>\n",
       "      <td>6</td>\n",
       "    </tr>\n",
       "    <tr>\n",
       "      <th>999999</th>\n",
       "      <td>1</td>\n",
       "      <td>6</td>\n",
       "      <td>3</td>\n",
       "    </tr>\n",
       "  </tbody>\n",
       "</table>\n",
       "<p>1000000 rows × 3 columns</p>\n",
       "</div>"
      ],
      "text/plain": [
       "        dice1  dice2  dice3\n",
       "0           5      2      4\n",
       "1           4      2      3\n",
       "2           4      2      5\n",
       "3           2      5      4\n",
       "4           5      5      5\n",
       "...       ...    ...    ...\n",
       "999995      5      4      4\n",
       "999996      5      1      3\n",
       "999997      4      3      2\n",
       "999998      3      3      6\n",
       "999999      1      6      3\n",
       "\n",
       "[1000000 rows x 3 columns]"
      ]
     },
     "execution_count": 8,
     "metadata": {},
     "output_type": "execute_result"
    }
   ],
   "source": [
    "df2 = pd.read_csv('three_dice.csv')\n",
    "df2"
   ]
  },
  {
   "cell_type": "markdown",
   "id": "67442f2e-727c-49ae-8bbd-c7781f14c2f1",
   "metadata": {},
   "source": [
    "## Optimal Solution"
   ]
  },
  {
   "cell_type": "code",
   "execution_count": 9,
   "id": "2300747a-a567-44ae-8b22-1e59cd8c65e7",
   "metadata": {},
   "outputs": [
    {
     "name": "stdout",
     "output_type": "stream",
     "text": [
      "총점수: 503895228\n",
      "평균: 503.895228\n"
     ]
    }
   ],
   "source": [
    "def get_optimal_score(dice1, dice2, dice3):\n",
    "    positions = {'A': None, 'B': None, 'C': None} # 숫자의 위치를 저장할 딕셔너리\n",
    "                 # A: one , B: ten , C: hundred\n",
    "    \n",
    "    # 첫 번째 주사위 배치 결정\n",
    "    if dice1 in [1, 2]: # 1,2 -> 1의자리 배치\n",
    "        positions['A'] = dice1\n",
    "    elif dice1 in [3, 4]: # 3,4 -> 10의 자리 배치\n",
    "        positions['B'] = dice1\n",
    "    else: # 5,6 -> 100의 자리 배치\n",
    "        positions['C'] = dice1\n",
    "\n",
    "    # 두 번째 주사위 배치 결정\n",
    "    remaining_positions = [pos for pos, val in positions.items() if val is None] # 아직 숫자가 배치되지 않은 자리를 리스트로 저장\n",
    "    if dice2 in [1, 2, 3]:  # 작은 자리부터 채우기\n",
    "        remaining_positions.sort()  # 작은 자리 먼저 (A(one) -> B(ten) 순서)\n",
    "    else:  # 큰 자리부터 채우기\n",
    "        remaining_positions.sort(reverse=True)  # 큰 자리 먼저 (B(ten) -> A(one) 순서)\n",
    "    \n",
    "    positions[remaining_positions[0]] = dice2  # 두 번째 주사위 배치\n",
    "\n",
    "    # 세 번째 주사위는 남은 자리에 배치\n",
    "    remaining_position = [pos for pos, val in positions.items() if val is None][0]\n",
    "    positions[remaining_position] = dice3\n",
    "\n",
    "    # 3자리 숫자 생성\n",
    "    optimal_score = positions['C'] * 100 + positions['B'] * 10 + positions['A']\n",
    "    return optimal_score\n",
    "\n",
    "# optimal_score 열 추가\n",
    "df2['optimal_score'] = df2.apply(lambda row: get_optimal_score(row['dice1'], row['dice2'], row['dice3']), axis=1)\n",
    "\n",
    "print(f\"총점수: {df2['optimal_score'].sum()}\")\n",
    "print(f\"평균: {df2['optimal_score'].mean()}\")"
   ]
  },
  {
   "cell_type": "markdown",
   "id": "37824a14-d3df-4694-9e6f-937822dd5735",
   "metadata": {},
   "source": [
    "`1` **최적의 방법은 첫 번째 주사위가 1,2가 나온다면 1의 자리에 사용하도록 선택하고 3,4가 나온다면 10의 자리에 사용, 5,6이 나온다면 100의 자리에 사용한다.**\n",
    "\n",
    "`2` **그 후 두 번째 주사위의 결과가 1,2,3이라면 남은 자리 중 작은 자리에 사용하고 4,5,6이라면 남은 자리 중 큰 자리에 사용한다.**\n",
    "\n",
    "`3` **세 번째 주사위는 자동으로 남은 자리에 가게 된다. 이렇게 먼저 번호마다 자리를 정한 후에 3자리 수를 생성해주는 것이 최적의 방법이다.**"
   ]
  },
  {
   "cell_type": "markdown",
   "id": "4aeac1fe-12ed-4526-bd17-04d5017d6277",
   "metadata": {},
   "source": [
    "## Graph"
   ]
  },
  {
   "cell_type": "code",
   "execution_count": 10,
   "id": "602a4f34-b5ee-436f-9667-a9a60f6e5a3c",
   "metadata": {},
   "outputs": [
    {
     "data": {
      "image/png": "[encoded data removed]",
      "text/plain": [
       "<Figure size 640x480 with 1 Axes>"
      ]
     },
     "metadata": {},
     "output_type": "display_data"
    }
   ],
   "source": [
    "import matplotlib.pyplot as plt\n",
    "\n",
    "score_counts = df2['optimal_score'].value_counts()\n",
    "plt.bar(score_counts.index, score_counts.values)\n",
    "\n",
    "plt.title('Distribution of Optimal Scores')\n",
    "plt.xlabel('Optimal Score')\n",
    "plt.ylabel('Frequency')\n",
    "\n",
    "plt.show()"
   ]
  },
  {
   "cell_type": "markdown",
   "id": "dcd9fd2e-a0c9-4090-8e4d-d107bc88cd9d",
   "metadata": {},
   "source": [
    "`-` 최적의 방법을 사용했을 때 어떤 수가 많이 나오는지를 시각화한 것이다. 400 이상의 비교적 큰 수들의 빈도가 많은 것을 보아 최적의 방법이 잘 동작하고 있다는 것을 알 수 있다."
   ]
  },
  {
   "cell_type": "markdown",
   "id": "1191e82e-03ff-42e6-bf93-ea99df005be1",
   "metadata": {},
   "source": [
    "## Expectation"
   ]
  },
  {
   "cell_type": "code",
   "execution_count": 11,
   "id": "43455c8b-5996-4e39-8a1a-6f69dc3e3e3a",
   "metadata": {},
   "outputs": [
    {
     "data": {
      "text/plain": [
       "503.8952279999998"
      ]
     },
     "execution_count": 11,
     "metadata": {},
     "output_type": "execute_result"
    }
   ],
   "source": [
    "e_df = pd.DataFrame(df2['optimal_score'].value_counts() / len(df2)).reset_index()\n",
    "e_df['Expectation'] = e_df['optimal_score'] * e_df['count']\n",
    "e_df['Expectation'].sum()"
   ]
  },
  {
   "cell_type": "markdown",
   "id": "148b5b14-0067-4a97-b7b2-92ffba541466",
   "metadata": {},
   "source": [
    "**표본이 충분히 많다면 표본평균은 기댓값(모평균 $μ$)과 매우 유사해진다.**\n",
    "\n",
    "`-` 위의 예에서는 표본의 크기가 100만으로 매우 크기에 반올림 한다면 소수 6번 째 자리까지 같게 계산된다."
   ]
  }
 ],
 "metadata": {
  "kernelspec": {
   "display_name": "Python 3 (ipykernel)",
   "language": "python",
   "name": "python3"
  },
  "language_info": {
   "codemirror_mode": {
    "name": "ipython",
    "version": 3
   },
   "file_extension": ".py",
   "mimetype": "text/x-python",
   "name": "python",
   "nbconvert_exporter": "python",
   "pygments_lexer": "ipython3",
   "version": "3.12.2"
  }
 },
 "nbformat": 4,
 "nbformat_minor": 5
}
