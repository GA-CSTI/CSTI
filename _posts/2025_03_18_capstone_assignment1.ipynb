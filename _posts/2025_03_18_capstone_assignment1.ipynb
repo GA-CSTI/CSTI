{
  "nbformat": 4,
  "nbformat_minor": 0,
  "metadata": {
    "colab": {
      "provenance": [],
      "authorship_tag": "ABX9TyN675TXUkyNrXEf6OIAo2FF",
      "include_colab_link": true
    },
    "kernelspec": {
      "name": "ir",
      "display_name": "R"
    },
    "language_info": {
      "name": "R"
    }
  },
  "cells": [
    {
      "cell_type": "markdown",
      "metadata": {
        "id": "view-in-github",
        "colab_type": "text"
      },
      "source": [
        "<a href=\"https://colab.research.google.com/github/magobbing/magobbing.github.io/blob/master/2025_03_18_capstone_assignment1.ipynb\" target=\"_parent\"><img src=\"https://colab.research.google.com/assets/colab-badge.svg\" alt=\"Open In Colab\"/></a>"
      ]
    },
    {
      "cell_type": "markdown",
      "source": [
        "# 문제 1\n",
        "주사위 두 개를 굴려서 나온 눈의 수를 사용해서 두 자리 숫자를 크게 만드는 사람이 이기는 게임이다. 주사위를 처음 굴려서 나온 눈의 수를 10의 자리와 1의 자리 중 어느 곳에 사용할 지 먼저 결정해야 한다. 그런 다음 두 번째로 주사위를 굴려서 나온 눈의 수는 자동으로 남은 자리의 숫자로 사용된다.\n",
        "\n",
        "예를 들어, 첫 번째 주사위가 3인데 10의 자리로 결정했고, 두 번째 6이 나왔다면 결과는 36이 된다.  \n",
        "\n",
        "어떤 전략을 사용해야 게임에 이길 가능성이 가장 클까?"
      ],
      "metadata": {
        "id": "YuUHk8dCLdoY"
      }
    },
    {
      "cell_type": "markdown",
      "source": [
        "1. 위의 \"two_dice.csv\" 파일을 다운받아 최선이라고 선택한 전략의 총점수를 구하는 R 또는 파이썬 코드를 작성하여 제출하라.\n",
        "  \n",
        "\n",
        "2. 최선의 전략일 때 확률분포를 구하고 그래프로 그려라.\n",
        "\n",
        "3. 최선의 전략에서 기대 점수를 구하라."
      ],
      "metadata": {
        "id": "0BLtJtiDNVjH"
      }
    },
    {
      "cell_type": "code",
      "source": [
        "# <r 코드>\n",
        "library(dplyr)\n",
        "library(ggplot2)\n",
        "url <- \"/content/two_dice.csv\"\n",
        "\n",
        "df<-read.csv(url)\n",
        "\n",
        "df <- df %>%\n",
        "  mutate(\n",
        "    number = ifelse(dice1 >= 4, dice1 * 10 + dice2, dice2 * 10 + dice1)\n",
        "  )\n",
        "\n",
        "# 총점수\n",
        "total_score <- sum(df$number)\n",
        "print(total_score)\n",
        "\n",
        "# 평균\n",
        "mean_score <- mean(df$number)\n",
        "print(mean_score)"
      ],
      "metadata": {
        "colab": {
          "base_uri": "https://localhost:8080/"
        },
        "id": "H0AB6hcCNT4Q",
        "outputId": "c639af71-0258-4ba3-cfc5-fead33a4cd3d"
      },
      "execution_count": null,
      "outputs": [
        {
          "output_type": "stream",
          "name": "stderr",
          "text": [
            "\n",
            "Attaching package: ‘dplyr’\n",
            "\n",
            "\n",
            "The following objects are masked from ‘package:stats’:\n",
            "\n",
            "    filter, lag\n",
            "\n",
            "\n",
            "The following objects are masked from ‘package:base’:\n",
            "\n",
            "    intersect, setdiff, setequal, union\n",
            "\n",
            "\n"
          ]
        },
        {
          "output_type": "stream",
          "name": "stdout",
          "text": [
            "[1] 45241257\n",
            "[1] 45.24126\n"
          ]
        }
      ]
    },
    {
      "cell_type": "markdown",
      "source": [
        "- 총점수 : 45241257\n",
        "- 평균 : 45.24126"
      ],
      "metadata": {
        "id": "9XRaEcD0OBrT"
      }
    },
    {
      "cell_type": "markdown",
      "source": [
        "# 최선의 전략:\n",
        "- 첫 번째 주사위가 4 이상이면 10의 자리에 배치\n",
        "(즉, 4, 5, 6일 경우)\n",
        "- 첫 번째 주사위가 3 이하이면 1의 자리에 배치\n",
        "(즉, 1, 2, 3일 경우)"
      ],
      "metadata": {
        "id": "ZU3TyFMbOa2j"
      }
    },
    {
      "cell_type": "code",
      "source": [
        "# 확률 분포 계산\n",
        "prob_dist <- df %>%\n",
        "  count(number) %>%\n",
        "  mutate(probability = n / sum(n))\n",
        "\n",
        "# 시각화\n",
        "ggplot(prob_dist, aes(x = number, y = probability)) +\n",
        "  geom_bar(stat = \"identity\", fill = \"blue\", alpha = 0.7) +\n",
        "  labs(title = \"확률 분포 그래프\", x = \"숫자 값\", y = \"확률\")+\n",
        "  theme_minimal()"
      ],
      "metadata": {
        "colab": {
          "base_uri": "https://localhost:8080/",
          "height": 437
        },
        "id": "vHrI9bOcQ2OI",
        "outputId": "92d69dae-29fb-4968-fb31-f82b1c7c37ec"
      },
      "execution_count": null,
      "outputs": [
        {
          "output_type": "display_data",
          "data": {
            "text/plain": [
              "plot without title"
            ],
            "image/png": "[encoded data removed]"
          },
          "metadata": {
            "image/png": {
              "width": 420,
              "height": 420
            }
          }
        }
      ]
    },
    {
      "cell_type": "markdown",
      "source": [
        "## 직접 기대값 계산\n",
        "첫 번째 주사위가 4,5,6인 경우 (확률 50%)\n",
        "가능한 경우:\n",
        "\n",
        "- X = 4,5,6 (각각 확률 1/6씩)\n",
        "- Y = 1~6 (각각 확률 1/6씩)\n",
        "- 기댓값_1 = sum over X and Y of [(10×X + Y) × P(X) × P(Y)]\n",
        "\n",
        "## 계산:\n",
        "\n",
        "- E[X] = (4+5+6) / 3 = 5\n",
        "- E[Y] = (1+2+3+4+5+6)/6 = 3.5\n",
        "- 기댓값_1 = 10 × 5 + 3.5 = 53.5\n",
        "\n",
        "그리고 이 경우의 확률은 3/6 = 0.5"
      ],
      "metadata": {
        "id": "h0afj_hcPo6A"
      }
    },
    {
      "cell_type": "markdown",
      "source": [
        " - 기댓값 $$0.5×53.5+0.5×37=26.75+18.5=45.25$$"
      ],
      "metadata": {
        "id": "ODpCU7vsPyAF"
      }
    },
    {
      "cell_type": "markdown",
      "source": [
        "# 문제 2"
      ],
      "metadata": {
        "id": "kjXcKaOCQWGK"
      }
    },
    {
      "cell_type": "markdown",
      "source": [
        "주사위 3개를 굴려서 나온 눈의 수를 사용해서 세자리 숫자를 가장 크게 만드는 사람이 이기는 게임이다.\n",
        "주사위를 처음 굴려서 나온 눈의 수를 세자리 숫자에서 어느 곳에 사용할 지 먼저 결정한다. 그런 다음 두 번째로 굴린 주사위에서 나온 눈의 수는 남은 두자리의 숫자 중 하나로 결정한다. 세 번째 나온 주사위 눈수는 자동으로 남은 숫자로 사용된다.\n",
        "\n",
        "예를 들어, 첫 번째 주사위가 3인데 10의 자리로 결정했고, 두 번째 6이 나와 100의 자리 숫자에 사용하고, 세 번째 주사위 눈수가 1이면 결과는 631이 된다.\n",
        "\n",
        "어떤 전략이 최선의 전략인가?\n",
        "\n",
        "1. 위의 \"three_dice.csv\" 파일을 다운받아 선택한 전략의 총점수를 구하는 R 또는 파이썬 코드를 작성하여 제출하라.\n",
        "\n",
        "2. 최선의 전략일 때 확률분포를 구하고 그래프로 그려라.\n",
        "\n",
        "3. 최선의 전략에서 이론적인 기댓값을 구하라."
      ],
      "metadata": {
        "id": "HEcDUzd8Rqd3"
      }
    },
    {
      "cell_type": "code",
      "source": [
        "url <- \"/content/three_dice.csv\"\n",
        "df2 <- read.csv(url)"
      ],
      "metadata": {
        "id": "xh8bpxwARUKW"
      },
      "execution_count": null,
      "outputs": []
    },
    {
      "cell_type": "code",
      "source": [
        "# case_when 함수 사용\n",
        "\n",
        "# 여러 경우의 수를 비교하기 위해 dice2 조건을 변수화\n",
        "df2 <- df2 %>%\n",
        "  mutate(\n",
        "    pos1 = ifelse(dice1 >= 5, 100, ifelse(dice1 <= 2, 1, 10)),\n",
        "\n",
        "    # dice2의 조건을 변수화해서 여러 경우 비교 가능\n",
        "    pos2_4 = case_when(\n",
        "      pos1 == 100 & dice2 >= 4 ~ 10,\n",
        "      pos1 == 100 ~ 1,\n",
        "      pos1 == 10 & dice2 >= 4 ~ 100,\n",
        "      pos1 == 10 ~ 1,\n",
        "      dice2 >= 4 ~ 100,\n",
        "      TRUE ~ 10\n",
        "    ),\n",
        "\n",
        "    pos2_5 = case_when(\n",
        "      pos1 == 100 & dice2 >= 5 ~ 10,\n",
        "      pos1 == 100 ~ 1,\n",
        "      pos1 == 10 & dice2 >= 5 ~ 100,\n",
        "      pos1 == 10 ~ 1,\n",
        "      dice2 >= 5 ~ 100,\n",
        "      TRUE ~ 10\n",
        "    ),\n",
        "\n",
        "    # dice3은 동일한 로직 적용\n",
        "    pos3_4 = 100 + 10 + 1 - pos1 - pos2_4,\n",
        "    pos3_5 = 100 + 10 + 1 - pos1 - pos2_5,\n",
        "\n",
        "    # 최종 숫자 계산\n",
        "    number_4 = (dice1 * pos1) + (dice2 * pos2_4) + (dice3 * pos3_4),\n",
        "    number_5 = (dice1 * pos1) + (dice2 * pos2_5) + (dice3 * pos3_5)\n",
        "  )\n",
        "\n",
        "# 어떤 조건이 더 높은 평균이 나오는지 확인\n",
        "## dice2_4일 때 더 값이 높음\n",
        "df2 %>%\n",
        "  summarise(\n",
        "    mean_4 = mean(number_4),\n",
        "    mean_5 = mean(number_5)\n",
        "  )\n",
        "\n",
        "df2 %>%\n",
        "  summarise(\n",
        "    sum_4 = sum(number_4),\n",
        "    sum_5 = sum(number_5)\n",
        "  )"
      ],
      "metadata": {
        "colab": {
          "base_uri": "https://localhost:8080/",
          "height": 241
        },
        "id": "vMSaBCLSRFqc",
        "outputId": "fade1aa4-d655-4086-acff-369bed30ee52"
      },
      "execution_count": null,
      "outputs": [
        {
          "output_type": "display_data",
          "data": {
            "text/html": [
              "<table class=\"dataframe\">\n",
              "<caption>A data.frame: 1 × 2</caption>\n",
              "<thead>\n",
              "\t<tr><th scope=col>mean_4</th><th scope=col>mean_5</th></tr>\n",
              "\t<tr><th scope=col>&lt;dbl&gt;</th><th scope=col>&lt;dbl&gt;</th></tr>\n",
              "</thead>\n",
              "<tbody>\n",
              "\t<tr><td>503.8952</td><td>498.4394</td></tr>\n",
              "</tbody>\n",
              "</table>\n"
            ],
            "text/markdown": "\nA data.frame: 1 × 2\n\n| mean_4 &lt;dbl&gt; | mean_5 &lt;dbl&gt; |\n|---|---|\n| 503.8952 | 498.4394 |\n\n",
            "text/latex": "A data.frame: 1 × 2\n\\begin{tabular}{ll}\n mean\\_4 & mean\\_5\\\\\n <dbl> & <dbl>\\\\\n\\hline\n\t 503.8952 & 498.4394\\\\\n\\end{tabular}\n",
            "text/plain": [
              "  mean_4   mean_5  \n",
              "1 503.8952 498.4394"
            ]
          },
          "metadata": {}
        },
        {
          "output_type": "display_data",
          "data": {
            "text/html": [
              "<table class=\"dataframe\">\n",
              "<caption>A data.frame: 1 × 2</caption>\n",
              "<thead>\n",
              "\t<tr><th scope=col>sum_4</th><th scope=col>sum_5</th></tr>\n",
              "\t<tr><th scope=col>&lt;dbl&gt;</th><th scope=col>&lt;dbl&gt;</th></tr>\n",
              "</thead>\n",
              "<tbody>\n",
              "\t<tr><td>503895228</td><td>498439428</td></tr>\n",
              "</tbody>\n",
              "</table>\n"
            ],
            "text/markdown": "\nA data.frame: 1 × 2\n\n| sum_4 &lt;dbl&gt; | sum_5 &lt;dbl&gt; |\n|---|---|\n| 503895228 | 498439428 |\n\n",
            "text/latex": "A data.frame: 1 × 2\n\\begin{tabular}{ll}\n sum\\_4 & sum\\_5\\\\\n <dbl> & <dbl>\\\\\n\\hline\n\t 503895228 & 498439428\\\\\n\\end{tabular}\n",
            "text/plain": [
              "  sum_4     sum_5    \n",
              "1 503895228 498439428"
            ]
          },
          "metadata": {}
        }
      ]
    },
    {
      "cell_type": "markdown",
      "source": [
        "- 총점수 : 503895228\n",
        "- 평균 : 503.8952"
      ],
      "metadata": {
        "id": "-KPN2ujgRfNF"
      }
    },
    {
      "cell_type": "markdown",
      "source": [
        "# 최선의 전략 :\n"
      ],
      "metadata": {
        "id": "y8R38cYfSncK"
      }
    },
    {
      "cell_type": "code",
      "source": [
        "# dice2_4를 최선의 전략으로 채택하고 확률분포 구하기\n",
        "prob_dist <- df2 %>%\n",
        "  group_by(number_4) %>%\n",
        "  summarise(count = n()) %>%\n",
        "  mutate(prob = count / sum(count)) # 확률 계산\n",
        "\n",
        "head(prob_dist)\n",
        "\n",
        "# 히스토그램 시각화\n",
        "ggplot(df2, aes(x = number_4)) +\n",
        "  geom_histogram(binwidth = 10, fill = \"blue\", alpha = 0.5, color = \"black\") +\n",
        "  labs(title = \"숫자(number_4)의 분포\", x = \"숫자 값\", y = \"빈도\") +\n",
        "  theme_minimal()"
      ],
      "metadata": {
        "colab": {
          "base_uri": "https://localhost:8080/",
          "height": 706
        },
        "id": "Fre3v3SmSVmm",
        "outputId": "a4fec9c5-661e-461a-c04b-2dd93a914ac4"
      },
      "execution_count": null,
      "outputs": [
        {
          "output_type": "display_data",
          "data": {
            "text/html": [
              "<table class=\"dataframe\">\n",
              "<caption>A tibble: 6 × 3</caption>\n",
              "<thead>\n",
              "\t<tr><th scope=col>number_4</th><th scope=col>count</th><th scope=col>prob</th></tr>\n",
              "\t<tr><th scope=col>&lt;dbl&gt;</th><th scope=col>&lt;int&gt;</th><th scope=col>&lt;dbl&gt;</th></tr>\n",
              "</thead>\n",
              "<tbody>\n",
              "\t<tr><td>111</td><td>4622</td><td>0.004622</td></tr>\n",
              "\t<tr><td>112</td><td>4677</td><td>0.004677</td></tr>\n",
              "\t<tr><td>121</td><td>4635</td><td>0.004635</td></tr>\n",
              "\t<tr><td>122</td><td>4505</td><td>0.004505</td></tr>\n",
              "\t<tr><td>131</td><td>9229</td><td>0.009229</td></tr>\n",
              "\t<tr><td>132</td><td>9164</td><td>0.009164</td></tr>\n",
              "</tbody>\n",
              "</table>\n"
            ],
            "text/markdown": "\nA tibble: 6 × 3\n\n| number_4 &lt;dbl&gt; | count &lt;int&gt; | prob &lt;dbl&gt; |\n|---|---|---|\n| 111 | 4622 | 0.004622 |\n| 112 | 4677 | 0.004677 |\n| 121 | 4635 | 0.004635 |\n| 122 | 4505 | 0.004505 |\n| 131 | 9229 | 0.009229 |\n| 132 | 9164 | 0.009164 |\n\n",
            "text/latex": "A tibble: 6 × 3\n\\begin{tabular}{lll}\n number\\_4 & count & prob\\\\\n <dbl> & <int> & <dbl>\\\\\n\\hline\n\t 111 & 4622 & 0.004622\\\\\n\t 112 & 4677 & 0.004677\\\\\n\t 121 & 4635 & 0.004635\\\\\n\t 122 & 4505 & 0.004505\\\\\n\t 131 & 9229 & 0.009229\\\\\n\t 132 & 9164 & 0.009164\\\\\n\\end{tabular}\n",
            "text/plain": [
              "  number_4 count prob    \n",
              "1 111      4622  0.004622\n",
              "2 112      4677  0.004677\n",
              "3 121      4635  0.004635\n",
              "4 122      4505  0.004505\n",
              "5 131      9229  0.009229\n",
              "6 132      9164  0.009164"
            ]
          },
          "metadata": {}
        },
        {
          "output_type": "display_data",
          "data": {
            "text/plain": [
              "plot without title"
            ],
            "image/png": "[encoded data removed]"
          },
          "metadata": {
            "image/png": {
              "width": 420,
              "height": 420
            }
          }
        }
      ]
    },
    {
      "cell_type": "code",
      "source": [],
      "metadata": {
        "id": "E49aglvISfrJ"
      },
      "execution_count": null,
      "outputs": []
    }
  ]
}
